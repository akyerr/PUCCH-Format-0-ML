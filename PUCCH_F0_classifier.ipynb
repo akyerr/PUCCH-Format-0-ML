{
 "cells": [
  {
   "cell_type": "code",
   "execution_count": 1,
   "id": "8d80eaca-8cba-4747-b778-64d1489c95ca",
   "metadata": {},
   "outputs": [],
   "source": [
    "import scipy.io as sio\n",
    "import tensorflow as tf\n",
    "\n",
    "from tensorflow.keras import Model, Sequential\n",
    "from tensorflow.keras.layers import Input, Dense, ReLU, BatchNormalization, Flatten, Reshape, Conv2D\n",
    "from tensorflow.keras.layers import UpSampling2D, MaxPooling2D, Conv2DTranspose\n",
    "from tensorflow.keras import backend as K\n",
    "from tensorflow.keras.optimizers import Adam, SGD\n",
    "from tensorflow.keras.optimizers.schedules import ExponentialDecay\n",
    "from tensorflow.keras.metrics import Accuracy\n",
    "from tensorflow.keras.losses import SparseCategoricalCrossentropy\n",
    "from tensorflow.keras.utils import to_categorical\n",
    "import matplotlib.pyplot as plt\n",
    "from numpy import zeros, reshape, mean, array, squeeze, expand_dims, abs, angle, argmax\n",
    "from numpy.linalg import norm\n",
    "import os\n",
    "import datetime\n",
    "import mat73\n",
    "from pickle import dump, load"
   ]
  },
  {
   "cell_type": "code",
   "execution_count": 2,
   "id": "fcddc58a-46fe-4c83-ac73-bb5840567823",
   "metadata": {},
   "outputs": [
    {
     "name": "stdout",
     "output_type": "stream",
     "text": [
      "(50000, 24)\n",
      "(50000, 1)\n"
     ]
    }
   ],
   "source": [
    "# Load dataset from matlab\n",
    "SNR = 20\n",
    "dataset_size = 50_000\n",
    "num_epochs = 50\n",
    "\n",
    "path_to_data = f'{os.getcwd()}/Datasets/'\n",
    "filename = f'{path_to_data}pucch_data_{SNR}dB_{int(dataset_size/1000)}k.mat'\n",
    "\n",
    "data = sio.loadmat(filename)\n",
    "X = data['X']\n",
    "Y = data['Y']\n",
    "print(X.shape)\n",
    "print(Y.shape)"
   ]
  },
  {
   "cell_type": "code",
   "execution_count": 3,
   "id": "5d794f3f-c565-43e6-a355-fcf74ff64463",
   "metadata": {},
   "outputs": [
    {
     "name": "stdout",
     "output_type": "stream",
     "text": [
      "[[0. 0. 0. 1.]\n",
      " [0. 1. 0. 0.]\n",
      " [0. 1. 0. 0.]\n",
      " ...\n",
      " [0. 0. 0. 1.]\n",
      " [0. 0. 0. 1.]\n",
      " [0. 1. 0. 0.]]\n"
     ]
    }
   ],
   "source": [
    "Z = zeros((len(Y), 1))\n",
    "for i in range (len(Y)):\n",
    "    if Y[i] == 3:\n",
    "        Z[i] = 1\n",
    "    elif Y[i] == 6:\n",
    "        Z[i] = 2\n",
    "    elif Y[i] == 9:\n",
    "        Z[i] = 3\n",
    "\n",
    "Z = to_categorical(Z)\n",
    "print(Z)"
   ]
  },
  {
   "cell_type": "code",
   "execution_count": 4,
   "id": "9eb18e84-2965-4347-99c1-a93b85dd2c33",
   "metadata": {},
   "outputs": [],
   "source": [
    "# Split datasets into training and testing\n",
    "num_train = int(0.75 * dataset_size)\n",
    "num_test = int(dataset_size - num_train)\n",
    "\n",
    "x_train, x_test = X[0: num_train, :], X[num_train:, :]\n",
    "y_train, y_test = Y[0: num_train, :], Y[num_train:, :]\n",
    "z_train, z_test = Z[0: num_train, :], Z[num_train:, :]"
   ]
  },
  {
   "cell_type": "code",
   "execution_count": 6,
   "id": "b6e03886-992c-402c-9a55-ea0115dc47c8",
   "metadata": {},
   "outputs": [
    {
     "name": "stdout",
     "output_type": "stream",
     "text": [
      "Model: \"model_1\"\n",
      "_________________________________________________________________\n",
      "Layer (type)                 Output Shape              Param #   \n",
      "=================================================================\n",
      "input_layer (InputLayer)     [(None, 24)]              0         \n",
      "_________________________________________________________________\n",
      "dense_3 (Dense)              (None, 32)                800       \n",
      "_________________________________________________________________\n",
      "dense_4 (Dense)              (None, 32)                1056      \n",
      "_________________________________________________________________\n",
      "dense_5 (Dense)              (None, 4)                 132       \n",
      "=================================================================\n",
      "Total params: 1,988\n",
      "Trainable params: 1,988\n",
      "Non-trainable params: 0\n",
      "_________________________________________________________________\n",
      "Epoch 1/10\n",
      " 34/525 [>.............................] - ETA: 2s - loss: 1.2138 - accuracy: 0.4141"
     ]
    },
    {
     "name": "stderr",
     "output_type": "stream",
     "text": [
      "2022-03-23 09:24:37.967934: I tensorflow/core/grappler/optimizers/custom_graph_optimizer_registry.cc:112] Plugin optimizer for device_type GPU is enabled.\n"
     ]
    },
    {
     "name": "stdout",
     "output_type": "stream",
     "text": [
      "523/525 [============================>.] - ETA: 0s - loss: 0.4076 - accuracy: 0.9301"
     ]
    },
    {
     "name": "stderr",
     "output_type": "stream",
     "text": [
      "2022-03-23 09:24:40.478530: I tensorflow/core/grappler/optimizers/custom_graph_optimizer_registry.cc:112] Plugin optimizer for device_type GPU is enabled.\n"
     ]
    },
    {
     "name": "stdout",
     "output_type": "stream",
     "text": [
      "525/525 [==============================] - 3s 6ms/step - loss: 0.4064 - accuracy: 0.9302 - val_loss: 0.0985 - val_accuracy: 0.9950\n",
      "Epoch 2/10\n",
      "525/525 [==============================] - 3s 6ms/step - loss: 0.0803 - accuracy: 0.9954 - val_loss: 0.0455 - val_accuracy: 0.9957\n",
      "Epoch 3/10\n",
      "525/525 [==============================] - 3s 6ms/step - loss: 0.0458 - accuracy: 0.9973 - val_loss: 0.0308 - val_accuracy: 0.9964\n",
      "Epoch 4/10\n",
      "525/525 [==============================] - 3s 6ms/step - loss: 0.0325 - accuracy: 0.9982 - val_loss: 0.0240 - val_accuracy: 0.9965\n",
      "Epoch 5/10\n",
      "525/525 [==============================] - 3s 6ms/step - loss: 0.0254 - accuracy: 0.9987 - val_loss: 0.0200 - val_accuracy: 0.9970\n",
      "Epoch 6/10\n",
      "525/525 [==============================] - 3s 7ms/step - loss: 0.0209 - accuracy: 0.9989 - val_loss: 0.0174 - val_accuracy: 0.9971\n",
      "Epoch 7/10\n",
      "525/525 [==============================] - 5s 9ms/step - loss: 0.0178 - accuracy: 0.9990 - val_loss: 0.0155 - val_accuracy: 0.9972\n",
      "Epoch 8/10\n",
      "525/525 [==============================] - 7s 14ms/step - loss: 0.0155 - accuracy: 0.9991 - val_loss: 0.0141 - val_accuracy: 0.9973\n",
      "Epoch 9/10\n",
      "525/525 [==============================] - 4s 8ms/step - loss: 0.0137 - accuracy: 0.9992 - val_loss: 0.0130 - val_accuracy: 0.9975\n",
      "Epoch 10/10\n",
      "525/525 [==============================] - 5s 9ms/step - loss: 0.0123 - accuracy: 0.9993 - val_loss: 0.0121 - val_accuracy: 0.9975\n"
     ]
    },
    {
     "data": {
      "text/plain": [
       "<matplotlib.legend.Legend at 0x15fe19910>"
      ]
     },
     "execution_count": 6,
     "metadata": {},
     "output_type": "execute_result"
    },
    {
     "data": {
      "image/png": "[encoded data removed]",
      "text/plain": [
       "<Figure size 432x288 with 1 Axes>"
      ]
     },
     "metadata": {
      "needs_background": "light"
     },
     "output_type": "display_data"
    },
    {
     "data": {
      "image/png": "[encoded data removed]",
      "text/plain": [
       "<Figure size 432x288 with 1 Axes>"
      ]
     },
     "metadata": {
      "needs_background": "light"
     },
     "output_type": "display_data"
    }
   ],
   "source": [
    "# Build Neural Network and Train\n",
    "input_signal = Input(shape=(24,), name='input_layer')\n",
    "x = Dense(32, activation='relu')(input_signal)\n",
    "x = Dense(32, activation='relu')(x)\n",
    "output_pred = Dense(4, activation='softmax')(x)\n",
    "\n",
    "model = Model(input_signal, output_pred)\n",
    "model.summary()\n",
    " \n",
    "model.compile(optimizer='SGD', \n",
    "              loss='categorical_crossentropy', \n",
    "              metrics=['accuracy'])\n",
    "\n",
    "history = model.fit(x_train, z_train, epochs=num_epochs, batch_size=50, validation_split=0.3)\n",
    "\n",
    "\n",
    "plt.figure()\n",
    "plt.plot(history.history[\"loss\"])\n",
    "plt.plot(history.history[\"val_loss\"])\n",
    "plt.title(\"Model Loss\")\n",
    "plt.ylabel(\"Loss\")\n",
    "plt.xlabel(\"Epoch\")\n",
    "plt.legend([\"Training\", \"Validation\"], loc=\"upper right\")\n",
    "\n",
    "plt.figure()\n",
    "plt.plot(history.history[\"accuracy\"])\n",
    "plt.plot(history.history[\"val_accuracy\"])\n",
    "plt.title(\"Model Accuracy\")\n",
    "plt.ylabel(\"Accuracy\")\n",
    "plt.xlabel(\"Epoch\")\n",
    "plt.legend([\"Training\", \"Validation\"], loc=\"lower right\")"
   ]
  },
  {
   "cell_type": "code",
   "execution_count": 7,
   "id": "2c90ce96-e1e9-4fb5-8971-a74a4c6c02e0",
   "metadata": {},
   "outputs": [
    {
     "name": "stderr",
     "output_type": "stream",
     "text": [
      "2022-03-23 09:25:35.289505: I tensorflow/core/grappler/optimizers/custom_graph_optimizer_registry.cc:112] Plugin optimizer for device_type GPU is enabled.\n"
     ]
    },
    {
     "name": "stdout",
     "output_type": "stream",
     "text": [
      "391/391 - 2s - loss: 0.0137 - accuracy: 0.9992\n",
      "\n",
      "Test accuracy: 0.9992000460624695\n"
     ]
    }
   ],
   "source": [
    "test_loss, test_acc = model.evaluate(x_test,  z_test, verbose=2)\n",
    "\n",
    "print('\\nTest accuracy:', test_acc)"
   ]
  },
  {
   "cell_type": "code",
   "execution_count": 8,
   "id": "e198a3cc-2a90-45de-91c2-01b63097eebf",
   "metadata": {},
   "outputs": [
    {
     "name": "stderr",
     "output_type": "stream",
     "text": [
      "2022-03-23 09:25:38.463313: I tensorflow/core/grappler/optimizers/custom_graph_optimizer_registry.cc:112] Plugin optimizer for device_type GPU is enabled.\n"
     ]
    },
    {
     "name": "stdout",
     "output_type": "stream",
     "text": [
      "(12500, 4)\n"
     ]
    }
   ],
   "source": [
    "predictions = model.predict(x_test)\n",
    "print(predictions.shape)"
   ]
  },
  {
   "cell_type": "code",
   "execution_count": 9,
   "id": "04ab4941-7d49-4aef-9f3c-d09382a3d94e",
   "metadata": {},
   "outputs": [
    {
     "data": {
      "text/plain": [
       "array([1.8002538e-09, 1.7356607e-08, 7.8782190e-09, 1.0000000e+00],\n",
       "      dtype=float32)"
      ]
     },
     "execution_count": 9,
     "metadata": {},
     "output_type": "execute_result"
    }
   ],
   "source": [
    "predictions[0]"
   ]
  },
  {
   "cell_type": "code",
   "execution_count": 10,
   "id": "bf3e9d76-3b9d-455d-be1d-8a29d21b4548",
   "metadata": {},
   "outputs": [
    {
     "data": {
      "text/plain": [
       "array([0., 0., 0., 1.], dtype=float32)"
      ]
     },
     "execution_count": 10,
     "metadata": {},
     "output_type": "execute_result"
    }
   ],
   "source": [
    "z_test[0]"
   ]
  },
  {
   "cell_type": "code",
   "execution_count": 11,
   "id": "4b5b6e1d-fe83-45d5-b785-172fbfc9d965",
   "metadata": {},
   "outputs": [],
   "source": [
    "def plot_value_array(i, predictions_array, true_label):\n",
    "    possible_CS = [0, 3, 6, 9]\n",
    "    \n",
    "    applied_CS_plt_label = argmax(true_label[i, :])\n",
    "    applied_CS = possible_CS[applied_CS_plt_label]\n",
    "    \n",
    "    recovered_CS_plt_label = argmax(predictions_array)\n",
    "    recovered_CS = possible_CS[recovered_CS_plt_label]\n",
    "    \n",
    "    plt.grid(False)\n",
    "    \n",
    "    print(predictions_array)\n",
    "    thisplot = plt.bar(range(4), predictions_array, color=\"#777777\")\n",
    "    xtick_labels = ['NACK, -ve SR (0)', 'NACK, +ve SR (3)', 'ACK, -ve SR (6)', 'ACK, +ve SR (9)']\n",
    "    plt.xticks(range(4), xtick_labels, rotation='vertical')\n",
    "    # ax.set_xticklabels(x_ticks_labels, rotation='vertical', fontsize=18)\n",
    "    plt.yticks([])\n",
    "    plt.ylim([0, 1])\n",
    "    \n",
    "    print(thisplot[0])  \n",
    "    print(applied_CS, recovered_CS)\n",
    "    thisplot[applied_CS_plt_label].set_color('red')\n",
    "    thisplot[recovered_CS_plt_label].set_color('blue')"
   ]
  },
  {
   "cell_type": "code",
   "execution_count": 12,
   "id": "064e4d76-4da7-466f-8c0a-3843963dffed",
   "metadata": {},
   "outputs": [
    {
     "name": "stdout",
     "output_type": "stream",
     "text": [
      "[1.9898782e-04 9.7308162e-04 1.7923042e-04 9.9864870e-01]\n",
      "Rectangle(xy=(-0.4, 0), width=0.8, height=0.000198988, angle=0)\n",
      "9 9\n"
     ]
    },
    {
     "data": {
      "image/png": "[encoded data removed]",
      "text/plain": [
       "<Figure size 432x216 with 1 Axes>"
      ]
     },
     "metadata": {
      "needs_background": "light"
     },
     "output_type": "display_data"
    },
    {
     "name": "stdout",
     "output_type": "stream",
     "text": [
      "[4.5390738e-05 9.9979967e-01 6.3633554e-05 9.1338028e-05]\n",
      "Rectangle(xy=(-0.4, 0), width=0.8, height=4.53907e-05, angle=0)\n",
      "3 3\n"
     ]
    },
    {
     "data": {
      "image/png": "[encoded data removed]",
      "text/plain": [
       "<Figure size 432x216 with 1 Axes>"
      ]
     },
     "metadata": {
      "needs_background": "light"
     },
     "output_type": "display_data"
    },
    {
     "name": "stdout",
     "output_type": "stream",
     "text": [
      "[1.6058895e-05 9.9989021e-01 8.4516078e-06 8.5184365e-05]\n",
      "Rectangle(xy=(-0.4, 0), width=0.8, height=1.60589e-05, angle=0)\n",
      "3 3\n"
     ]
    },
    {
     "data": {
      "image/png": "[encoded data removed]",
      "text/plain": [
       "<Figure size 432x216 with 1 Axes>"
      ]
     },
     "metadata": {
      "needs_background": "light"
     },
     "output_type": "display_data"
    },
    {
     "name": "stdout",
     "output_type": "stream",
     "text": [
      "[6.3798898e-06 4.4885222e-05 1.3018769e-05 9.9993563e-01]\n",
      "Rectangle(xy=(-0.4, 0), width=0.8, height=6.37989e-06, angle=0)\n",
      "9 9\n"
     ]
    },
    {
     "data": {
      "image/png": "[encoded data removed]",
      "text/plain": [
       "<Figure size 432x216 with 1 Axes>"
      ]
     },
     "metadata": {
      "needs_background": "light"
     },
     "output_type": "display_data"
    }
   ],
   "source": [
    "i = 45\n",
    "\n",
    "for i in [5, 15, 150, 1500]:\n",
    "    plt.figure(figsize=(6,3))\n",
    "    plot_value_array(i, predictions[i],  z_test)\n",
    "    plt.show()"
   ]
  },
  {
   "cell_type": "code",
   "execution_count": null,
   "id": "4ae62e0a-ba99-47d0-9f1e-a9833abffd08",
   "metadata": {},
   "outputs": [],
   "source": []
  }
 ],
 "metadata": {
  "kernelspec": {
   "display_name": "Python 3 (ipykernel)",
   "language": "python",
   "name": "python3"
  },
  "language_info": {
   "codemirror_mode": {
    "name": "ipython",
    "version": 3
   },
   "file_extension": ".py",
   "mimetype": "text/x-python",
   "name": "python",
   "nbconvert_exporter": "python",
   "pygments_lexer": "ipython3",
   "version": "3.8.12"
  }
 },
 "nbformat": 4,
 "nbformat_minor": 5
}

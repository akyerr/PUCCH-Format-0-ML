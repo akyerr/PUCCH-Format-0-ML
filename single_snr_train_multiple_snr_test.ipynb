{
 "cells": [
  {
   "cell_type": "code",
   "execution_count": 59,
   "id": "6a2aad16-0824-4059-b0a3-04772ccb7fde",
   "metadata": {},
   "outputs": [],
   "source": [
    "import scipy.io as sio\n",
    "import tensorflow as tf\n",
    "\n",
    "from tensorflow.keras import Model, Sequential\n",
    "from tensorflow.keras.layers import Input, Dense, ReLU, BatchNormalization, Flatten, Reshape, Conv2D\n",
    "\n",
    "from tensorflow.keras.layers import UpSampling2D, MaxPooling2D, Conv2DTranspose, Dropout\n",
    "from tensorflow.keras import backend as K\n",
    "from tensorflow.keras.optimizers import Adam, SGD\n",
    "from tensorflow.keras.optimizers.schedules import ExponentialDecay\n",
    "from tensorflow.keras.metrics import Accuracy\n",
    "from tensorflow.keras.losses import SparseCategoricalCrossentropy\n",
    "from tensorflow.keras.utils import to_categorical\n",
    "import matplotlib.pyplot as plt\n",
    "from numpy import zeros, reshape, mean, array, squeeze, expand_dims, abs, angle, argmax, arange, floor, ceil, ravel\n",
    "from numpy import asarray\n",
    "from numpy.random import normal\n",
    "from numpy.linalg import norm\n",
    "from numpy import concatenate\n",
    "from numpy.random import choice\n",
    "import os\n",
    "import datetime\n",
    "from pickle import dump, load\n",
    "import seaborn as sns\n",
    "plt.style.use('seaborn-whitegrid')\n",
    "\n",
    "from neural_net_model import neural_net_model\n",
    "import shap"
   ]
  },
  {
   "cell_type": "code",
   "execution_count": 60,
   "id": "20a97275-a000-4705-939f-1ed3a31a6221",
   "metadata": {},
   "outputs": [],
   "source": [
    "train_SNR = 10\n",
    "num_epochs = 7\n",
    "dataset_size = 1_008_000\n",
    "path_to_data = f\"{os.getcwd()}/Datasets_v2/Datafiles/Sim_data/\"\n",
    "\n",
    "norm_tx, norm_rx = 0, 0\n",
    "\n",
    "filename_train = f'{path_to_data}pucch_fading_{train_SNR}dB_{int(dataset_size/1000)}k_norm_tx_{norm_tx}_norm_rx_{norm_rx}.mat'\n",
    "data = sio.loadmat(filename_train)\n",
    "X = data['X']\n",
    "Y = data['Y']"
   ]
  },
  {
   "cell_type": "code",
   "execution_count": 61,
   "id": "2841a5db-ac11-4f19-a071-fb602a7e9b55",
   "metadata": {},
   "outputs": [
    {
     "name": "stdout",
     "output_type": "stream",
     "text": [
      "(756000, 24)\n"
     ]
    }
   ],
   "source": [
    "Z = to_categorical(Y)\n",
    "\n",
    "# Split datasets into training and testing\n",
    "num_train = int(0.75 * dataset_size)\n",
    "num_test = int(dataset_size - num_train)\n",
    "\n",
    "x_train, x_test = X[0:num_train, :], X[num_train:, :]\n",
    "y_train, y_test = Y[0:num_train, :], Y[num_train:, :]\n",
    "z_train, z_test = Z[0:num_train, :], Z[num_train:, :]\n",
    "\n",
    "print(x_train.shape)"
   ]
  },
  {
   "cell_type": "code",
   "execution_count": 62,
   "id": "5dd978ff-939a-40f5-b66c-cac5fa9d4835",
   "metadata": {},
   "outputs": [
    {
     "name": "stdout",
     "output_type": "stream",
     "text": [
      "Model: \"model_4\"\n",
      "_________________________________________________________________\n",
      "Layer (type)                 Output Shape              Param #   \n",
      "=================================================================\n",
      "input_layer (InputLayer)     [(None, 24)]              0         \n",
      "_________________________________________________________________\n",
      "fc_0 (Dense)                 (None, 128)               3200      \n",
      "_________________________________________________________________\n",
      "dropout_8 (Dropout)          (None, 128)               0         \n",
      "_________________________________________________________________\n",
      "fc_1 (Dense)                 (None, 128)               16512     \n",
      "_________________________________________________________________\n",
      "dropout_9 (Dropout)          (None, 128)               0         \n",
      "_________________________________________________________________\n",
      "output_layer (Dense)         (None, 12)                1548      \n",
      "=================================================================\n",
      "Total params: 21,260\n",
      "Trainable params: 21,260\n",
      "Non-trainable params: 0\n",
      "_________________________________________________________________\n",
      "Epoch 1/7\n"
     ]
    },
    {
     "name": "stderr",
     "output_type": "stream",
     "text": [
      "2022-07-07 08:00:50.156886: I tensorflow/core/grappler/optimizers/custom_graph_optimizer_registry.cc:112] Plugin optimizer for device_type GPU is enabled.\n",
      "2022-07-07 08:00:55.617159: I tensorflow/core/grappler/optimizers/custom_graph_optimizer_registry.cc:112] Plugin optimizer for device_type GPU is enabled.\n"
     ]
    },
    {
     "name": "stdout",
     "output_type": "stream",
     "text": [
      "1034/1034 - 7s - loss: 2.2173 - accuracy: 0.2697 - val_loss: 1.6465 - val_accuracy: 0.9078\n",
      "Epoch 2/7\n",
      "1034/1034 - 7s - loss: 1.5196 - accuracy: 0.5894 - val_loss: 0.8527 - val_accuracy: 0.9439\n",
      "Epoch 3/7\n",
      "1034/1034 - 7s - loss: 1.0277 - accuracy: 0.7315 - val_loss: 0.5107 - val_accuracy: 0.9522\n",
      "Epoch 4/7\n",
      "1034/1034 - 7s - loss: 0.7706 - accuracy: 0.7960 - val_loss: 0.3690 - val_accuracy: 0.9554\n",
      "Epoch 5/7\n",
      "1034/1034 - 7s - loss: 0.6355 - accuracy: 0.8282 - val_loss: 0.2989 - val_accuracy: 0.9572\n",
      "Epoch 6/7\n",
      "1034/1034 - 7s - loss: 0.5506 - accuracy: 0.8486 - val_loss: 0.2581 - val_accuracy: 0.9582\n",
      "Epoch 7/7\n",
      "1034/1034 - 7s - loss: 0.4962 - accuracy: 0.8606 - val_loss: 0.2321 - val_accuracy: 0.9591\n"
     ]
    }
   ],
   "source": [
    "model = neural_net_model()\n",
    "model.summary()\n",
    "\n",
    "optimizer = SGD(learning_rate=1e-3, momentum=0.9)\n",
    "model.compile(optimizer=optimizer, loss='categorical_crossentropy', metrics=['accuracy'])\n",
    "\n",
    "history = model.fit(x_train, z_train, epochs=num_epochs, batch_size=512, validation_split=0.3, verbose=2)"
   ]
  },
  {
   "cell_type": "markdown",
   "id": "fe95aa70-47b7-457e-8a2a-f0636d5ec073",
   "metadata": {},
   "source": [
    "## Add Explaninability to the model"
   ]
  },
  {
   "cell_type": "code",
   "execution_count": 63,
   "id": "9cf6cbda-4fd9-4b05-81ad-58e01b4025df",
   "metadata": {},
   "outputs": [
    {
     "data": {
      "image/png": "[encoded data removed]",
      "text/plain": [
       "<Figure size 1152x1080 with 12 Axes>"
      ]
     },
     "metadata": {},
     "output_type": "display_data"
    }
   ],
   "source": [
    "classes = list(range(12))\n",
    "\n",
    "# Save one instance of each class\n",
    "pucch_train_instances = dict()\n",
    "for i, j in enumerate(y_train):\n",
    "    if len(pucch_train_instances) == 12:\n",
    "        break\n",
    "        \n",
    "    if j[0] not in pucch_train_instances.keys():\n",
    "        pucch_train_instances[j[0]] = x_train[i, :].reshape((12, 2))\n",
    "\n",
    "# Plot\n",
    "fig, axes = plt.subplots(1, 12, figsize=(16, 15))\n",
    "axes = axes.flatten()\n",
    "\n",
    "# # Plot an empty canvas\n",
    "# ax = axes[0]\n",
    "# dummy_array = array([[[0, 0, 0, 0]]], dtype='uint8')\n",
    "# ax.set_title(\"reference\")\n",
    "# ax.set_axis_off()\n",
    "# ax.imshow(dummy_array, interpolation='nearest')\n",
    "\n",
    "\n",
    "# Plot an image for every category\n",
    "for k,v in pucch_instances.items():\n",
    "    ax = axes[k]\n",
    "    ax.imshow(v, cmap=plt.cm.binary)\n",
    "    ax.set_title(f\"{classes[k]}\")\n",
    "    ax.set_axis_off()\n",
    "\n",
    "plt.tight_layout()\n",
    "plt.show()"
   ]
  },
  {
   "cell_type": "code",
   "execution_count": 64,
   "id": "2f6f05a4-2da7-4698-93fa-ce23bd107a98",
   "metadata": {},
   "outputs": [
    {
     "name": "stderr",
     "output_type": "stream",
     "text": [
      "Your TensorFlow version is newer than 2.4.0 and so graph support has been removed in eager mode and some static graphs may not be supported. See PR #1483 for discussion.\n"
     ]
    }
   ],
   "source": [
    "# Take a random sample of 5000 training instances\n",
    "background = x_train[choice(x_train.shape[0], 5000, replace=False)]\n",
    "\n",
    "# Use DeepExplainer to explain predictions of the model\n",
    "e = shap.DeepExplainer(model, background)"
   ]
  },
  {
   "cell_type": "code",
   "execution_count": 97,
   "id": "0c0eeedb-e239-424d-b612-a183b79f04d0",
   "metadata": {},
   "outputs": [
    {
     "name": "stdout",
     "output_type": "stream",
     "text": [
      "x_test_each_class tensor has shape: (12, 24)\n",
      "<class 'numpy.ndarray'>\n"
     ]
    }
   ],
   "source": [
    "# Save an example of each class from the test set\n",
    "pucch_test_instances = dict()\n",
    "for i, j in enumerate(y_test):\n",
    "    if len(pucch_test_instances) == 12:\n",
    "        break\n",
    "    if j[0] not in pucch_test_instances.keys():\n",
    "        pucch_test_instances[j[0]] = x_test[i, :]\n",
    "\n",
    "# Convert to list preserving order of classes\n",
    "x_test_each_class = [pucch_test_instances[i] for i in sorted(pucch_test_instances)]\n",
    "\n",
    "# Convert to tensor\n",
    "x_test_each_class = asarray(x_test_each_class)\n",
    "\n",
    "# Print shape of tensor\n",
    "print(f\"x_test_each_class tensor has shape: {x_test_each_class.shape}\")\n",
    "print(type(x_test_each_class))"
   ]
  },
  {
   "cell_type": "code",
   "execution_count": 107,
   "id": "86b9fdc0-6b7b-4f48-8cb0-81ee8e8ce574",
   "metadata": {},
   "outputs": [
    {
     "name": "stdout",
     "output_type": "stream",
     "text": [
      "(12, 12, 2)\n"
     ]
    }
   ],
   "source": [
    "x_test_each_class_mat = zeros((12, 12, 2), dtype=float)\n",
    "for i in range(12):\n",
    "    x_test_each_class_mat[i, :, :] = x_test_each_class[i, :].reshape((12, 2))\n",
    "print(x_test_each_class_mat.shape)"
   ]
  },
  {
   "cell_type": "code",
   "execution_count": 108,
   "id": "3ed2e948-d8e4-4295-8b45-1123156903fb",
   "metadata": {},
   "outputs": [
    {
     "data": {
      "text/plain": [
       "array([ 0,  1,  2,  3,  4,  5,  6,  7,  8,  9, 10, 11])"
      ]
     },
     "execution_count": 108,
     "metadata": {},
     "output_type": "execute_result"
    }
   ],
   "source": [
    "# Compute predictions\n",
    "predictions = model.predict(x_test_each_class)\n",
    "\n",
    "# Apply argmax to get predicted class\n",
    "argmax(predictions, axis=1)"
   ]
  },
  {
   "cell_type": "code",
   "execution_count": 113,
   "id": "fd142fe1-4d86-4d57-8a32-61490ed10109",
   "metadata": {},
   "outputs": [
    {
     "name": "stdout",
     "output_type": "stream",
     "text": [
      "(12, 2)\n"
     ]
    }
   ],
   "source": [
    "# Compute shap values using DeepExplainer instance\n",
    "shap_values = e.shap_values(x_test_each_class)\n",
    "# print(shap_values[0].shape) \n",
    "\n",
    "shap_values_mat = list()\n",
    "for i in range(12): # list\n",
    "    for j in range(12):\n",
    "        # print(shap_values[i].shape)\n",
    "        shap_values_mat.append(shap_values[i][j, :].reshape((12, 2)))\n",
    "print(shap_values_mat[0].shape)"
   ]
  },
  {
   "cell_type": "code",
   "execution_count": 105,
   "id": "d3d66073-639c-4152-9ff0-adc0e0130425",
   "metadata": {},
   "outputs": [
    {
     "data": {
      "image/png": "[encoded data removed]",
      "text/plain": [
       "<Figure size 1152x1080 with 13 Axes>"
      ]
     },
     "metadata": {},
     "output_type": "display_data"
    },
    {
     "name": "stdout",
     "output_type": "stream",
     "text": [
      "\n",
      "<class 'list'> <class 'list'>\n"
     ]
    },
    {
     "ename": "TypeError",
     "evalue": "bad operand type for unary -: 'list'",
     "output_type": "error",
     "traceback": [
      "\u001b[0;31m---------------------------------------------------------------------------\u001b[0m",
      "\u001b[0;31mTypeError\u001b[0m                                 Traceback (most recent call last)",
      "\u001b[0;32m/var/folders/kd/p8h863_j54981p5kv7y7y0nr0000gn/T/ipykernel_40596/1416883676.py\u001b[0m in \u001b[0;36m<module>\u001b[0;34m\u001b[0m\n\u001b[1;32m     27\u001b[0m \u001b[0mprint\u001b[0m\u001b[0;34m(\u001b[0m\u001b[0mtype\u001b[0m\u001b[0;34m(\u001b[0m\u001b[0mshap_values_mat\u001b[0m\u001b[0;34m)\u001b[0m\u001b[0;34m,\u001b[0m \u001b[0mtype\u001b[0m\u001b[0;34m(\u001b[0m\u001b[0mx_test_each_class_mat\u001b[0m\u001b[0;34m)\u001b[0m\u001b[0;34m)\u001b[0m\u001b[0;34m\u001b[0m\u001b[0;34m\u001b[0m\u001b[0m\n\u001b[1;32m     28\u001b[0m \u001b[0;31m# Plot shap values\u001b[0m\u001b[0;34m\u001b[0m\u001b[0;34m\u001b[0m\u001b[0;34m\u001b[0m\u001b[0m\n\u001b[0;32m---> 29\u001b[0;31m \u001b[0mshap\u001b[0m\u001b[0;34m.\u001b[0m\u001b[0mimage_plot\u001b[0m\u001b[0;34m(\u001b[0m\u001b[0mshap_values_mat\u001b[0m\u001b[0;34m,\u001b[0m \u001b[0;34m-\u001b[0m\u001b[0mx_test_each_class_mat\u001b[0m\u001b[0;34m)\u001b[0m\u001b[0;34m\u001b[0m\u001b[0;34m\u001b[0m\u001b[0m\n\u001b[0m",
      "\u001b[0;31mTypeError\u001b[0m: bad operand type for unary -: 'list'"
     ]
    }
   ],
   "source": [
    "# Plot\n",
    "fig, axes = plt.subplots(1, 13, figsize=(16, 15))\n",
    "axes = axes.flatten()\n",
    "\n",
    "# Plot an empty canvas\n",
    "ax = axes[0]\n",
    "dummy_array = array([[[0, 0, 0, 0]]], dtype='uint8')\n",
    "ax.set_title(\"reference\")\n",
    "ax.set_axis_off()\n",
    "ax.imshow(dummy_array, interpolation='nearest')\n",
    "\n",
    "\n",
    "# Plot an image for every category\n",
    "for k,v in pucch_train_instances.items():\n",
    "    ax = axes[k+1]\n",
    "    ax.imshow(v, cmap=plt.cm.binary)\n",
    "    ax.set_title(f\"{classes[k]}\")\n",
    "    ax.set_axis_off()\n",
    "\n",
    "plt.tight_layout()\n",
    "plt.show()\n",
    "\n",
    "\n",
    "# Print an empty line to separate the two plots\n",
    "print()\n",
    "\n",
    "print(type(shap_values_mat), type(x_test_each_class_mat))\n",
    "# Plot shap values\n",
    "shap.image_plot(shap_values_mat, -x_test_each_class_mat)"
   ]
  },
  {
   "cell_type": "code",
   "execution_count": null,
   "id": "8464320b-a4ce-4bba-a1f4-33d75ac5afee",
   "metadata": {},
   "outputs": [],
   "source": [
    "# create save folder if it doesn't exist\n",
    "save_folder = './Weights'\n",
    "if not os.path.exists(save_folder):\n",
    "    os.makedirs(save_folder)\n",
    "\n",
    "\n",
    "# save weights\n",
    "weights_save_path = os.path.join(save_folder, 'weights_128_12_class.h5')\n",
    "model.save_weights(weights_save_path)"
   ]
  },
  {
   "cell_type": "code",
   "execution_count": null,
   "id": "3b0dce11-69b1-4b75-936c-9557f2777b03",
   "metadata": {},
   "outputs": [],
   "source": [
    "# plt.rcParams['axes.edgecolor'] = 'black'\n",
    "# plt.figure()\n",
    "# markers = list(arange(0, num_epochs, 50))\n",
    "# markers[-1] = markers[-1] - 1\n",
    "# plt.plot(history.history['loss'], 's-r', label='Training', markevery=markers)\n",
    "# plt.plot(history.history['val_loss'], '^-b', label='Validation', markevery=markers)\n",
    "# plt.title(f'Model Loss, SNR = {train_SNR} dB', fontsize=16, fontweight=\"bold\")\n",
    "# plt.ylabel('Categorical Cross Entropy Loss', fontsize=16, fontweight=\"bold\")\n",
    "# plt.xlabel('Training Epoch', fontsize=16, fontweight=\"bold\")\n",
    "# plt.grid(True)\n",
    "# plt.legend(loc='upper right', prop=dict(weight='bold'))\n",
    "# plt.xticks(fontsize=12, fontweight='bold')\n",
    "# plt.yticks(fontsize=12, fontweight='bold')\n",
    "\n",
    "# plt.savefig(f'./Plots/Loss_{train_SNR}_dB_single_train_multiple_test.png', dpi=400)\n",
    "\n",
    "# acc_perc = [100*a for a in history.history['accuracy']]\n",
    "# val_acc_perc = [100*a for a in history.history['val_accuracy']]\n",
    "# plt.figure()\n",
    "# plt.plot(acc_perc, 's-r', label='Training', markevery=markers)\n",
    "# plt.plot(val_acc_perc, '^-b', label='Validation', markevery=markers)\n",
    "# plt.title(f'Model Accuracy, SNR = {train_SNR} dB', fontsize=16, fontweight=\"bold\")\n",
    "# plt.ylabel('Accuracy (%)', fontsize=16, fontweight=\"bold\")\n",
    "# plt.xlabel('Training Epoch', fontsize=16, fontweight=\"bold\")\n",
    "# plt.grid(True)\n",
    "# plt.legend(loc='lower right', prop=dict(weight='bold'))\n",
    "# plt.xticks(fontsize=12, fontweight='bold')\n",
    "# # plt.yticks(arange(floor(min(acc_perc)), floor(max(val_acc_perc))+1, 2), fontsize=12, fontweight='bold')\n",
    "# plt.yticks(fontsize=12, fontweight='bold')\n",
    "# plt.savefig(f'./Plots/Accuracy_{train_SNR}_dB_single_train_multiple_test.png', dpi=400)"
   ]
  },
  {
   "cell_type": "code",
   "execution_count": null,
   "id": "32a103e2-06d5-471b-a2b2-9726a7dade11",
   "metadata": {},
   "outputs": [],
   "source": []
  }
 ],
 "metadata": {
  "kernelspec": {
   "display_name": "Python 3 (ipykernel)",
   "language": "python",
   "name": "python3"
  },
  "language_info": {
   "codemirror_mode": {
    "name": "ipython",
    "version": 3
   },
   "file_extension": ".py",
   "mimetype": "text/x-python",
   "name": "python",
   "nbconvert_exporter": "python",
   "pygments_lexer": "ipython3",
   "version": "3.8.12"
  }
 },
 "nbformat": 4,
 "nbformat_minor": 5
}

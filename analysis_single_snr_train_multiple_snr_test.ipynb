{
 "cells": [
  {
   "cell_type": "code",
   "execution_count": 1,
   "id": "99dc8497-784e-4cdb-ad02-a1bb048a02b1",
   "metadata": {},
   "outputs": [],
   "source": [
    "import os\n",
    "import scipy.io as sio\n",
    "import tensorflow as tf\n",
    "from tensorflow.keras import Model, Sequential\n",
    "from tensorflow.keras.layers import Input, Dense, ReLU, BatchNormalization, Flatten, Reshape, Conv2D\n",
    "from tensorflow.keras.layers import UpSampling2D, MaxPooling2D, Conv2DTranspose, Dropout\n",
    "from tensorflow.keras.utils import to_categorical\n",
    "from tensorflow.keras.optimizers import Adam, SGD\n",
    "import matplotlib.pyplot as plt\n",
    "from numpy import zeros, reshape, mean, array, squeeze, expand_dims, abs, angle, argmax, arange, floor, ceil, ravel\n",
    "from numpy.random import normal\n",
    "from numpy.linalg import norm\n",
    "from numpy import concatenate\n",
    "from pickle import dump, load\n",
    "import seaborn as sns\n",
    "sns.set(style=\"white\", color_codes=False)"
   ]
  },
  {
   "cell_type": "code",
   "execution_count": 2,
   "id": "9fb6de6d-5d56-4cda-9fb1-c2fa3e167899",
   "metadata": {},
   "outputs": [],
   "source": [
    "from test_comb_snr_hw import test_comb_snr_hw\n",
    "from test_sep_snr_hw import test_sep_snr_hw\n",
    "from test_sep_snr_sim import test_sep_snr_sim\n",
    "\n",
    "from neural_net_model import neural_net_model"
   ]
  },
  {
   "cell_type": "code",
   "execution_count": 3,
   "id": "58131051-dbd5-4764-b849-739f1e22774f",
   "metadata": {},
   "outputs": [
    {
     "name": "stderr",
     "output_type": "stream",
     "text": [
      "2022-07-06 21:28:43.252276: I tensorflow/core/common_runtime/pluggable_device/pluggable_device_factory.cc:305] Could not identify NUMA node of platform GPU ID 0, defaulting to 0. Your kernel may not have been built with NUMA support.\n",
      "2022-07-06 21:28:43.252397: I tensorflow/core/common_runtime/pluggable_device/pluggable_device_factory.cc:271] Created TensorFlow device (/job:localhost/replica:0/task:0/device:GPU:0 with 0 MB memory) -> physical PluggableDevice (device: 0, name: METAL, pci bus id: <undefined>)\n"
     ]
    },
    {
     "name": "stdout",
     "output_type": "stream",
     "text": [
      "Metal device set to: Apple M1\n",
      "Model: \"model\"\n",
      "_________________________________________________________________\n",
      "Layer (type)                 Output Shape              Param #   \n",
      "=================================================================\n",
      "input_layer (InputLayer)     [(None, 24)]              0         \n",
      "_________________________________________________________________\n",
      "fc_0 (Dense)                 (None, 128)               3200      \n",
      "_________________________________________________________________\n",
      "dropout (Dropout)            (None, 128)               0         \n",
      "_________________________________________________________________\n",
      "fc_1 (Dense)                 (None, 128)               16512     \n",
      "_________________________________________________________________\n",
      "dropout_1 (Dropout)          (None, 128)               0         \n",
      "_________________________________________________________________\n",
      "output_layer (Dense)         (None, 12)                1548      \n",
      "=================================================================\n",
      "Total params: 21,260\n",
      "Trainable params: 21,260\n",
      "Non-trainable params: 0\n",
      "_________________________________________________________________\n"
     ]
    }
   ],
   "source": [
    "model = neural_net_model()\n",
    "model.summary()\n",
    "\n",
    "# load weights\n",
    "weights_load_path = os.path.join('.', 'Weights', 'weights_128_12_class_unnorm.h5')\n",
    "model.load_weights(weights_load_path)\n",
    "\n",
    "# compile model\n",
    "optimizer = SGD(learning_rate=1e-3, momentum=0.9)\n",
    "model.compile(optimizer=optimizer, loss='categorical_crossentropy', metrics=['accuracy'])\n",
    "\n",
    "path_to_data = f\"{os.getcwd()}/Datasets_v2/Datafiles/\"\n",
    "dataset_size = 1_008_000\n",
    "\n",
    "separate_sim = False\n",
    "separate_hw = True"
   ]
  },
  {
   "cell_type": "code",
   "execution_count": 4,
   "id": "377d953b-1adb-49df-ad49-9a7c3bdf7835",
   "metadata": {},
   "outputs": [
    {
     "name": "stdout",
     "output_type": "stream",
     "text": [
      "-----------------------------HW testing SNR = 11.02 dB--------------------------------\n"
     ]
    },
    {
     "name": "stderr",
     "output_type": "stream",
     "text": [
      "2022-07-06 21:29:10.500397: I tensorflow/compiler/mlir/mlir_graph_optimization_pass.cc:185] None of the MLIR Optimization Passes are enabled (registered 2)\n",
      "2022-07-06 21:29:10.500573: W tensorflow/core/platform/profile_utils/cpu_utils.cc:128] Failed to get CPU frequency: 0 Hz\n",
      "2022-07-06 21:29:10.563173: I tensorflow/core/grappler/optimizers/custom_graph_optimizer_registry.cc:112] Plugin optimizer for device_type GPU is enabled.\n"
     ]
    },
    {
     "name": "stdout",
     "output_type": "stream",
     "text": [
      "1061/1061 - 5s - loss: 0.1529 - accuracy: 0.9409\n",
      "-----------------------------HW testing SNR = 4.93 dB--------------------------------\n",
      "1061/1061 - 4s - loss: 0.8059 - accuracy: 0.7710\n",
      "-----------------------------HW testing SNR = 3.64 dB--------------------------------\n",
      "1061/1061 - 4s - loss: 0.1307 - accuracy: 0.9649\n",
      "-----------------------------HW testing SNR = 0.83 dB--------------------------------\n",
      "1061/1061 - 4s - loss: 3.5879 - accuracy: 0.4227\n",
      "-----------------------------HW testing SNR = 1.14 dB--------------------------------\n",
      "1061/1061 - 4s - loss: 3.0081 - accuracy: 0.4639\n",
      "-----------------------------HW testing SNR = 0.24 dB--------------------------------\n",
      "1061/1061 - 4s - loss: 6.1127 - accuracy: 0.1736\n",
      "-----------------------------HW testing SNR = 0.12 dB--------------------------------\n",
      "1061/1061 - 4s - loss: 7.1195 - accuracy: 0.0977\n"
     ]
    }
   ],
   "source": [
    "# Test separate SNRs Sim\n",
    "if separate_sim:\n",
    "    test_SNR = [0, 5, 10, 15, 20]\n",
    "    # Test separate SNRs Sim\n",
    "    final_test_loss, final_test_accuracy = test_sep_snr_sim(model, test_SNR, dataset_size, path_to_data)\n",
    "\n",
    "# Test separate SNRs HW\n",
    "if separate_hw:\n",
    "    hw_test_file = f'{path_to_data}Hw_test_data/pucch_hw_data.mat'\n",
    "    final_test_loss_hw, final_test_accuracy_hw = test_sep_snr_hw(model, hw_test_file)"
   ]
  },
  {
   "cell_type": "code",
   "execution_count": null,
   "id": "996c38e4-956d-4c08-9ea7-83ea3429997f",
   "metadata": {},
   "outputs": [],
   "source": []
  }
 ],
 "metadata": {
  "kernelspec": {
   "display_name": "Python 3 (ipykernel)",
   "language": "python",
   "name": "python3"
  },
  "language_info": {
   "codemirror_mode": {
    "name": "ipython",
    "version": 3
   },
   "file_extension": ".py",
   "mimetype": "text/x-python",
   "name": "python",
   "nbconvert_exporter": "python",
   "pygments_lexer": "ipython3",
   "version": "3.8.12"
  }
 },
 "nbformat": 4,
 "nbformat_minor": 5
}
